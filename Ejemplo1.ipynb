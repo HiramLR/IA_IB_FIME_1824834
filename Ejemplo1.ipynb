{
  "nbformat": 4,
  "nbformat_minor": 0,
  "metadata": {
    "colab": {
      "name": "Ejemplo1.ipynb",
      "provenance": [],
      "include_colab_link": true
    },
    "kernelspec": {
      "name": "python3",
      "display_name": "Python 3"
    },
    "language_info": {
      "name": "python"
    }
  },
  "cells": [
    {
      "cell_type": "markdown",
      "metadata": {
        "id": "view-in-github",
        "colab_type": "text"
      },
      "source": [
        "<a href=\"https://colab.research.google.com/github/HiramLR/IA_IB_FIME_1824834/blob/main/Ejemplo1.ipynb\" target=\"_parent\"><img src=\"https://colab.research.google.com/assets/colab-badge.svg\" alt=\"Open In Colab\"/></a>"
      ]
    },
    {
      "cell_type": "markdown",
      "source": [
        "# **Introduccion a Python**\n",
        "\n",
        "En este notebook vamos a aprender conceptos basicos y sintaxis del lenguaje de programacion Python.\n",
        "\n",
        "\n",
        "\n",
        "```\n",
        "print(\"Hello, world!\")\n",
        "```\n",
        "\n"
      ],
      "metadata": {
        "id": "CATMkxNhST-m"
      }
    },
    {
      "cell_type": "code",
      "execution_count": 25,
      "metadata": {
        "colab": {
          "base_uri": "https://localhost:8080/"
        },
        "id": "TaC11Z5QR8s-",
        "outputId": "05342310-f8af-4001-b793-507754ea9ba3"
      },
      "outputs": [
        {
          "output_type": "stream",
          "name": "stdout",
          "text": [
            "Hello, world!\n",
            "Esta es una variable\n",
            " \n",
            "10\n",
            "Pancho\n",
            "False\n",
            "20\n",
            "Pancho Pancho\n",
            " \n",
            "19\n",
            "Pancho comprobacion de len\n",
            "True\n",
            " \n"
          ]
        },
        {
          "output_type": "execute_result",
          "data": {
            "text/plain": [
              "False"
            ]
          },
          "metadata": {},
          "execution_count": 25
        }
      ],
      "source": [
        "if 5>2:\n",
        "  print(\"Hello, world!\") # esto es un comentario\n",
        "  msg = \"Esta es una variable\"\n",
        "  print(msg)\n",
        "\n",
        "\"\"\"\n",
        "Triple comilla permite comentario\n",
        "de mas de una linea de texto\n",
        "\"\"\"\n",
        "\n",
        "print (\" \")\n",
        "x = 10 # entero\n",
        "y = \"Pancho\" # cadena de caracteres\n",
        "z = False # booleano\n",
        "print(x)\n",
        "print(y)\n",
        "print(z)\n",
        "type(y) # type nos dice que tipo de variable es\n",
        "\n",
        "print (x + x)\n",
        "print (y + \" \" + y)\n",
        "\n",
        "\"\"\"\n",
        "Texto: str\n",
        "Numericos: int, float, complex\n",
        "Secuenciales: list, tuple\n",
        "Booleanos: bool\n",
        "\"\"\"\n",
        "\n",
        "\n",
        "a = \"comprobacion de len\" # str\n",
        "b = 5 # int (sin decimales, completo, positivo o negativo)\n",
        "c = 65.47 #  float (decimales)\n",
        "d = 1j # complex (parte real e imaginaria)\n",
        "e = ['manzana', 'platano', 'naranja'] # lista\n",
        "f = ('manzana', 'platano', 'naranja') # tupla\n",
        "g = True # booleano\n",
        "print (\" \")\n",
        "print(len(a)) # nos da la extension de una cadea de caracteres\n",
        "print (y + \" \" + a)\n",
        "print(10>4)\n",
        "\n",
        "\n",
        "\"\"\"\n",
        "Operadores\n",
        "-Aritmeticos (+ - * / % **)\n",
        "-Asignacion (= += -= *= /=)\n",
        "-Comparacion (== != > < >= <=)\n",
        "-Logicos (and or not)\n",
        "\"\"\"\n",
        "print (\" \")\n",
        "x < 5 and x < 10"
      ]
    }
  ]
}