{
  "nbformat": 4,
  "nbformat_minor": 0,
  "metadata": {
    "colab": {
      "name": "Ejemplo1.ipynb",
      "provenance": [],
      "authorship_tag": "ABX9TyMQke/fvshBNJoNpcxCznbK",
      "include_colab_link": true
    },
    "kernelspec": {
      "name": "python3",
      "display_name": "Python 3"
    },
    "language_info": {
      "name": "python"
    }
  },
  "cells": [
    {
      "cell_type": "markdown",
      "metadata": {
        "id": "view-in-github",
        "colab_type": "text"
      },
      "source": [
        "<a href=\"https://colab.research.google.com/github/HiramLR/IA_IB_FIME_1824834/blob/main/Ejemplo1.ipynb\" target=\"_parent\"><img src=\"https://colab.research.google.com/assets/colab-badge.svg\" alt=\"Open In Colab\"/></a>"
      ]
    },
    {
      "cell_type": "markdown",
      "source": [
        "# **Introduccion a Python**\n",
        "\n",
        "En este notebook vamos a aprender conceptos basicos y sintaxis del lenguaje de programacion Python.\n",
        "\n",
        "\n",
        "\n",
        "```\n",
        "print(\"Hi everybody!\")\n",
        "```\n",
        "\n"
      ],
      "metadata": {
        "id": "CATMkxNhST-m"
      }
    },
    {
      "cell_type": "code",
      "execution_count": 1,
      "metadata": {
        "colab": {
          "base_uri": "https://localhost:8080/"
        },
        "id": "TaC11Z5QR8s-",
        "outputId": "d5bdfe77-7ae5-46a3-ca54-758eb4aa2161"
      },
      "outputs": [
        {
          "output_type": "stream",
          "name": "stdout",
          "text": [
            "Hi everybody!\n"
          ]
        }
      ],
      "source": [
        "print(\"Hi everybody!\")"
      ]
    }
  ]
}