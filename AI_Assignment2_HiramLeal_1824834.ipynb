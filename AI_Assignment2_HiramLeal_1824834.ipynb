{
  "nbformat": 4,
  "nbformat_minor": 0,
  "metadata": {
    "colab": {
      "provenance": [],
      "authorship_tag": "ABX9TyO4KmJw0F4rfGqq8i1xoFHm",
      "include_colab_link": true
    },
    "kernelspec": {
      "name": "python3",
      "display_name": "Python 3"
    },
    "language_info": {
      "name": "python"
    }
  },
  "cells": [
    {
      "cell_type": "markdown",
      "metadata": {
        "id": "view-in-github",
        "colab_type": "text"
      },
      "source": [
        "<a href=\"https://colab.research.google.com/github/HiramLR/IA_IB_FIME_1824834/blob/main/AI_Assignment2_HiramLeal_1824834.ipynb\" target=\"_parent\"><img src=\"https://colab.research.google.com/assets/colab-badge.svg\" alt=\"Open In Colab\"/></a>"
      ]
    },
    {
      "cell_type": "code",
      "execution_count": 44,
      "metadata": {
        "colab": {
          "base_uri": "https://localhost:8080/"
        },
        "id": "3B9AADQku-cG",
        "outputId": "1292d1bb-7cda-46d3-e477-0264397c276a"
      },
      "outputs": [
        {
          "output_type": "stream",
          "name": "stdout",
          "text": [
            "What's your name?\n",
            "Introduce your name: John\n",
            "Anybody else?\n",
            "What's your name?\n",
            "Introduce your name: Hiram\n",
            "Hi Hiram!\n"
          ]
        }
      ],
      "source": [
        "#A2: Python exercises / Name: Hiram Doroteo Leal Rios / Student number: 1824834 / Class time: N4\n",
        "while True:\n",
        "  print(\"What's your name?\")\n",
        "  name = input(\"Introduce your name: \")\n",
        "  if name == \"Ana\" or name == \"John\" or name == \"Peter\":\n",
        "    print(\"Anybody else?\")\n",
        "  else:\n",
        "    print(f\"Hi {name}!\")\n",
        "    break"
      ]
    },
    {
      "cell_type": "code",
      "source": [
        "GivenList = [1,10,20,30,40,50]\n",
        "print(\"Elements of list:\",GivenList)\n",
        "print(\"Last element of a given list:\",GivenList[-1])\n",
        "GivenList.reverse()\n",
        "print(\"Reverted list:\",GivenList)"
      ],
      "metadata": {
        "colab": {
          "base_uri": "https://localhost:8080/"
        },
        "id": "0jMj6KfJ4E49",
        "outputId": "d0634eaa-fc08-44fb-9fbd-1b6f44e40ae4"
      },
      "execution_count": 47,
      "outputs": [
        {
          "output_type": "stream",
          "name": "stdout",
          "text": [
            "Elements of list: [1, 10, 20, 30, 40, 50]\n",
            "Last element of a given list: 50\n",
            "Reverted list: [50, 40, 30, 20, 10, 1]\n"
          ]
        }
      ]
    },
    {
      "cell_type": "code",
      "source": [
        "input_string = input(\"Enter elements separated by comma: \\nE.g. [Hi,my,name,is,John,Doe]\")\n",
        "Example_List2 = input_string.split(\",\")\n",
        "print(\"Printing the list\")\n",
        "print(\"*********\")\n",
        "for elements in Example_List2:\n",
        "  print(\"* \",elements,\" *\")\n",
        "print(\"*********\")"
      ],
      "metadata": {
        "colab": {
          "base_uri": "https://localhost:8080/"
        },
        "id": "o8C2UWZkA-Jo",
        "outputId": "7a35b555-e0ae-4084-f318-34e16c3e9eb9"
      },
      "execution_count": 61,
      "outputs": [
        {
          "output_type": "stream",
          "name": "stdout",
          "text": [
            "Enter elements separated by comma: \n",
            "E.g. [Hi,my,name,is,John,Doe]Hi,my,name,is,Hiram\n",
            "Printing the list\n",
            "*********\n",
            "*  Hi  *\n",
            "*  my  *\n",
            "*  name  *\n",
            "*  is  *\n",
            "*  Hiram  *\n",
            "*********\n"
          ]
        }
      ]
    }
  ]
}